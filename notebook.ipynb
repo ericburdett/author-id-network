{
  "nbformat": 4,
  "nbformat_minor": 0,
  "metadata": {
    "colab": {
      "name": "DL_Lab1.ipynb",
      "provenance": [],
      "collapsed_sections": [],
      "include_colab_link": true
    },
    "kernelspec": {
      "name": "python3",
      "display_name": "Python 3"
    },
    "language_info": {
      "codemirror_mode": {
        "name": "ipython",
        "version": 3
      },
      "file_extension": ".py",
      "mimetype": "text/x-python",
      "name": "python",
      "nbconvert_exporter": "python",
      "pygments_lexer": "ipython3",
      "version": "3.7.4"
    },
    "pycharm": {
      "stem_cell": {
        "cell_type": "raw",
        "source": [],
        "metadata": {
          "collapsed": false
        }
      }
    },
    "accelerator": "GPU"
  },
  "cells": [
    {
      "cell_type": "markdown",
      "metadata": {
        "id": "view-in-github",
        "colab_type": "text"
      },
      "source": [
        "<a href=\"https://colab.research.google.com/github/ericburdett/author-id-network/blob/master/notebook.ipynb\" target=\"_parent\"><img src=\"https://colab.research.google.com/assets/colab-badge.svg\" alt=\"Open In Colab\"/></a>"
      ]
    },
    {
      "cell_type": "markdown",
      "metadata": {
        "id": "vxOdWuCQNoNv",
        "colab_type": "text"
      },
      "source": [
        "# **Author Identification**\n",
        "#### Eric Burdett\n",
        "\n",
        "This notebook contains code that can successfully identify authors given a page of handwritten text. The datasets used come from the Missionary Journals dataset that is made available from the BYU library. This work is based off of the following papers:\n",
        "\n",
        "*   Paper #1\n",
        "*   Paper #2\n"
      ]
    },
    {
      "cell_type": "markdown",
      "metadata": {
        "id": "8AmQvEN8qCD2",
        "colab_type": "text"
      },
      "source": [
        "##Install PyTorch and Import Dependencies"
      ]
    },
    {
      "cell_type": "code",
      "metadata": {
        "id": "CtgvRdcMpTUY",
        "colab_type": "code",
        "outputId": "caf1b837-ee89-4132-ba37-27a08ffdfb9c",
        "colab": {
          "base_uri": "https://localhost:8080/",
          "height": 193
        }
      },
      "source": [
        "!pip3 install torch\n",
        "!pip3 install torchvision\n",
        "!pip3 install tqdm"
      ],
      "execution_count": 0,
      "outputs": [
        {
          "output_type": "stream",
          "text": [
            "Requirement already satisfied: torch in /usr/local/lib/python3.6/dist-packages (1.3.1)\n",
            "Requirement already satisfied: numpy in /usr/local/lib/python3.6/dist-packages (from torch) (1.17.4)\n",
            "Requirement already satisfied: torchvision in /usr/local/lib/python3.6/dist-packages (0.4.2)\n",
            "Requirement already satisfied: torch==1.3.1 in /usr/local/lib/python3.6/dist-packages (from torchvision) (1.3.1)\n",
            "Requirement already satisfied: pillow>=4.1.1 in /usr/local/lib/python3.6/dist-packages (from torchvision) (4.3.0)\n",
            "Requirement already satisfied: numpy in /usr/local/lib/python3.6/dist-packages (from torchvision) (1.17.4)\n",
            "Requirement already satisfied: six in /usr/local/lib/python3.6/dist-packages (from torchvision) (1.12.0)\n",
            "Requirement already satisfied: olefile in /usr/local/lib/python3.6/dist-packages (from pillow>=4.1.1->torchvision) (0.46)\n",
            "Requirement already satisfied: tqdm in /usr/local/lib/python3.6/dist-packages (4.28.1)\n"
          ],
          "name": "stdout"
        }
      ]
    },
    {
      "cell_type": "code",
      "metadata": {
        "id": "mgyBKjilpXsD",
        "colab_type": "code",
        "colab": {
          "base_uri": "https://localhost:8080/",
          "height": 54
        },
        "outputId": "b4e11108-858b-4759-af77-e6d50a9edecc"
      },
      "source": [
        "import torch\n",
        "import torch.nn as nn\n",
        "import torch.nn.functional as F\n",
        "import torch.optim as optim\n",
        "from torch.utils.data import Dataset, DataLoader\n",
        "import numpy as np\n",
        "import matplotlib.pyplot as plt\n",
        "from torchvision import transforms, utils, datasets\n",
        "from tqdm import tqdm\n",
        "from torch.nn.parameter import Parameter\n",
        "import pdb\n",
        "import torchvision\n",
        "import os\n",
        "import gzip\n",
        "import tarfile\n",
        "from PIL import Image, ImageOps\n",
        "import gc\n",
        "import pdb\n",
        "from google.colab import drive\n",
        "drive.mount('/content/drive')\n",
        "from IPython.core.ultratb import AutoFormattedTB\n",
        "__ITB__ = AutoFormattedTB(mode = 'Verbose',color_scheme='LightBg', tb_offset = 1)\n",
        "\n",
        "assert torch.cuda.is_available(), \"Request a GPU from Runtime > Change Runtime\""
      ],
      "execution_count": 1,
      "outputs": [
        {
          "output_type": "stream",
          "text": [
            "Drive already mounted at /content/drive; to attempt to forcibly remount, call drive.mount(\"/content/drive\", force_remount=True).\n"
          ],
          "name": "stdout"
        }
      ]
    },
    {
      "cell_type": "markdown",
      "metadata": {
        "id": "HigOWkfRqRuJ",
        "colab_type": "text"
      },
      "source": [
        "##Import & Create Missionary Journal Dataset"
      ]
    },
    {
      "cell_type": "code",
      "metadata": {
        "id": "xIMmLHE0P7zJ",
        "colab_type": "code",
        "colab": {}
      },
      "source": [
        "# Copy the dataset over to colab\n",
        "!cp \"drive/My Drive/datasets/missionary.tar.gz\" \"/content\""
      ],
      "execution_count": 0,
      "outputs": []
    },
    {
      "cell_type": "code",
      "metadata": {
        "id": "FO9_v5Oav721",
        "colab_type": "code",
        "colab": {
          "base_uri": "https://localhost:8080/",
          "height": 277
        },
        "outputId": "34a6fe16-e3ae-49eb-f903-af84285d4859"
      },
      "source": [
        "!ls missionary/Ajax_William"
      ],
      "execution_count": 2,
      "outputs": [
        {
          "output_type": "stream",
          "text": [
            "0.bmp\t 113.bmp  127.bmp  19.bmp  32.bmp  46.bmp  5.bmp   73.bmp  87.bmp\n",
            "100.bmp  114.bmp  128.bmp  1.bmp   33.bmp  47.bmp  60.bmp  74.bmp  88.bmp\n",
            "101.bmp  115.bmp  129.bmp  20.bmp  34.bmp  48.bmp  61.bmp  75.bmp  89.bmp\n",
            "102.bmp  116.bmp  12.bmp   21.bmp  35.bmp  49.bmp  62.bmp  76.bmp  8.bmp\n",
            "103.bmp  117.bmp  130.bmp  22.bmp  36.bmp  4.bmp   63.bmp  77.bmp  90.bmp\n",
            "104.bmp  118.bmp  131.bmp  23.bmp  37.bmp  50.bmp  64.bmp  78.bmp  91.bmp\n",
            "105.bmp  119.bmp  132.bmp  24.bmp  38.bmp  51.bmp  65.bmp  79.bmp  92.bmp\n",
            "106.bmp  11.bmp   133.bmp  25.bmp  39.bmp  52.bmp  66.bmp  7.bmp   93.bmp\n",
            "107.bmp  120.bmp  134.bmp  26.bmp  3.bmp   53.bmp  67.bmp  80.bmp  94.bmp\n",
            "108.bmp  121.bmp  13.bmp   27.bmp  40.bmp  54.bmp  68.bmp  81.bmp  95.bmp\n",
            "109.bmp  122.bmp  14.bmp   28.bmp  41.bmp  55.bmp  69.bmp  82.bmp  96.bmp\n",
            "10.bmp\t 123.bmp  15.bmp   29.bmp  42.bmp  56.bmp  6.bmp   83.bmp  97.bmp\n",
            "110.bmp  124.bmp  16.bmp   2.bmp   43.bmp  57.bmp  70.bmp  84.bmp  98.bmp\n",
            "111.bmp  125.bmp  17.bmp   30.bmp  44.bmp  58.bmp  71.bmp  85.bmp  99.bmp\n",
            "112.bmp  126.bmp  18.bmp   31.bmp  45.bmp  59.bmp  72.bmp  86.bmp  9.bmp\n"
          ],
          "name": "stdout"
        }
      ]
    },
    {
      "cell_type": "code",
      "metadata": {
        "id": "5ujTmtVm0HBi",
        "colab_type": "code",
        "colab": {}
      },
      "source": [
        "!rm missionary/ -r"
      ],
      "execution_count": 0,
      "outputs": []
    },
    {
      "cell_type": "code",
      "metadata": {
        "colab_type": "code",
        "id": "PLh7gvOtvf2T",
        "colab": {}
      },
      "source": [
        "# Extract into /content/missionary\n",
        "!tar xzf missionary.tar.gz"
      ],
      "execution_count": 0,
      "outputs": []
    },
    {
      "cell_type": "code",
      "metadata": {
        "id": "JIGyUuMAqbOr",
        "colab_type": "code",
        "colab": {}
      },
      "source": [
        "class MissionaryDataset(Dataset):\n",
        "  def __init__(self, size=256):\n",
        "    if not os.path.exists('/content/missionary'):\n",
        "      raise Exception('Missionary dataset does not exist in /content/missionary')\n",
        "\n",
        "    # # Only resize and set dataset_folder once\n",
        "    # if not os.path.exists(os.path.join('/content/missionary/Ajax_William/0.bmp')):\n",
        "    #   self.resize('/content/missionary', size)\n",
        "    \n",
        "    self.dataset_folder = torchvision.datasets.ImageFolder('/content/missionary',\n",
        "        transform=transforms.Compose([transforms.ToTensor()]))\n",
        "\n",
        "  def num_classes(self):\n",
        "    return len(self.dataset_folder.class_to_idx)\n",
        "\n",
        "  def resize(self, path, size):\n",
        "    \"\"\"Resizes all images in place\"\"\"\n",
        "    print(\"Resizing images\")\n",
        "    dirs = os.walk(path)\n",
        "    for root, dirs, files in os.walk(path):\n",
        "        for item in files:\n",
        "            name = os.path.join(root, item)\n",
        "            if os.path.isfile(name):\n",
        "                im = Image.open(name)\n",
        "                im = ImageOps.fit(im, (size, size))\n",
        "                im.save(name[:-3] + 'bmp', 'BMP')\n",
        "                os.remove(name)\n",
        "\n",
        "  def idx_to_class(self, idx):\n",
        "    for key, value in self.dataset_folder.class_to_idx.items():\n",
        "      if value == idx:\n",
        "        return key\n",
        "    \n",
        "    raise Exception('Class not found for index ' + idx)\n",
        "\n",
        "  def __getitem__(self, index):\n",
        "    return self.dataset_folder[index]\n",
        "\n",
        "  def __len__(self):\n",
        "    return len(self.dataset_folder)"
      ],
      "execution_count": 0,
      "outputs": []
    },
    {
      "cell_type": "code",
      "metadata": {
        "id": "y47ryYEBuY9c",
        "colab_type": "code",
        "colab": {
          "base_uri": "https://localhost:8080/",
          "height": 34
        },
        "outputId": "dfaafc99-81c2-463f-d398-34cc2b9e10ed"
      },
      "source": [
        "dataset = MissionaryDataset()\n",
        "dataset.__getitem__(0)[1]"
      ],
      "execution_count": 40,
      "outputs": [
        {
          "output_type": "execute_result",
          "data": {
            "text/plain": [
              "0"
            ]
          },
          "metadata": {
            "tags": []
          },
          "execution_count": 40
        }
      ]
    },
    {
      "cell_type": "markdown",
      "metadata": {
        "id": "uoyVcM3Uqsjn",
        "colab_type": "text"
      },
      "source": [
        "##Create our model using a CNN"
      ]
    },
    {
      "cell_type": "code",
      "metadata": {
        "id": "cJAHFVsbrBcW",
        "colab_type": "code",
        "colab": {}
      },
      "source": [
        "class AuthorIdNetwork(nn.Module):\n",
        "  def __init__(self, dataset):\n",
        "    super(AuthorIdNetwork, self).__init__()\n",
        "\n",
        "    x, y = dataset[0]\n",
        "    in_channels, height, width = x.size()\n",
        "\n",
        "    num_classes = dataset.num_classes()\n",
        "\n",
        "    CONV1_CHANNELS = 96\n",
        "    CONV1_SIZE = (5, 5)\n",
        "    CONV1_STRIDE = 1\n",
        "    CONV1_PADDING = 2\n",
        "    CONV2_5_CHANNELS = 256 \n",
        "    CONV2_5_SIZE = (3, 3)\n",
        "    CONV2_5_STRIDE = 1\n",
        "    CONV2_5_PADDING = 1\n",
        "    CONV3_4_CHANNELS = 384\n",
        "    CONV3_4_SIZE = (3, 3)\n",
        "    CONV3_4_STRIDE = 1\n",
        "    CONV3_4_PADDING = 1\n",
        "    FC_COUNT = 1024\n",
        "    self.fc_input = CONV2_5_CHANNELS * (height // 8) * (width // 8)\n",
        "\n",
        "    MP_SIZE= (3, 3)\n",
        "    MP_STRIDE = 2\n",
        "    MP_PADDING = 1\n",
        "\n",
        "    self.conv1 = nn.Conv2d(in_channels, CONV1_CHANNELS, CONV1_SIZE, stride=CONV1_STRIDE, padding=CONV1_PADDING)\n",
        "    self.relu1 = nn.ReLU()\n",
        "    self.mp1 = nn.MaxPool2d(MP_SIZE, stride=MP_STRIDE, padding=MP_PADDING)\n",
        "    self.conv2 = nn.Conv2d(CONV1_CHANNELS, CONV2_5_CHANNELS, CONV2_5_SIZE, stride=CONV2_5_STRIDE, padding=CONV2_5_PADDING)\n",
        "    self.relu2 = nn.ReLU()\n",
        "    self.mp2 =  nn.MaxPool2d(MP_SIZE, stride=MP_STRIDE, padding=MP_PADDING)\n",
        "    self.conv3 = nn.Conv2d(CONV2_5_CHANNELS, CONV3_4_CHANNELS, CONV3_4_SIZE, stride=CONV3_4_STRIDE, padding=CONV3_4_PADDING)\n",
        "    self.relu3 = nn.ReLU()\n",
        "    self.conv4 = nn.Conv2d(CONV3_4_CHANNELS, CONV3_4_CHANNELS, CONV3_4_SIZE, stride=CONV3_4_STRIDE, padding=CONV3_4_PADDING)\n",
        "    self.relu4 = nn.ReLU()\n",
        "    self.conv5 = nn.Conv2d(CONV3_4_CHANNELS, CONV2_5_CHANNELS, CONV2_5_SIZE, stride=CONV2_5_STRIDE, padding=CONV2_5_PADDING)\n",
        "    self.relu5 = nn.ReLU()\n",
        "    self.mp3 = nn.MaxPool2d(MP_SIZE, stride=MP_STRIDE, padding=MP_PADDING)\n",
        "    self.fc1 = nn.Linear(self.fc_input, FC_COUNT, bias=True)\n",
        "    self.relu6 = nn.ReLU()\n",
        "    self.fc2 = nn.Linear(FC_COUNT, num_classes, bias=True)\n",
        "    self.relu7 = nn.ReLU()\n",
        "    # self.drop = nn.Dropout(p=0.5)\n",
        "    self.soft = nn.Softmax(dim=0)\n",
        "\n",
        "  def forward(self, x):\n",
        "    batch_size = x.shape[0]\n",
        "\n",
        "    conv1_out = self.conv1(x)\n",
        "    # print('conv1_out:', conv1_out.shape)\n",
        "    relu1_out = self.relu1(conv1_out)\n",
        "    mp1_out = self.mp1(relu1_out)\n",
        "    # print('mp1_out:', mp1_out.shape)\n",
        "    conv2_out = self.conv2(mp1_out)\n",
        "    # print('conv2_out:', conv2_out.shape)\n",
        "    relu2_out = self.relu2(conv2_out)\n",
        "    mp2_out = self.mp2(relu2_out)\n",
        "    # print('mp2_out:', mp2_out.shape)\n",
        "    conv3_out = self.conv3(mp2_out)\n",
        "    # print('conv3_out:', conv3_out.shape)\n",
        "    relu3_out = self.relu3(conv3_out)\n",
        "    conv4_out = self.conv4(relu3_out)\n",
        "    # print('conv4_out:', conv4_out.shape)\n",
        "    relu4_out = self.relu4(conv4_out)\n",
        "    conv5_out = self.conv5(relu4_out)\n",
        "    # print('conv5_out:', conv5_out.shape)\n",
        "    relu5_out = self.relu5(conv5_out)\n",
        "    mp3_out = self.mp3(relu5_out)\n",
        "    # print('mp3_out:', mp3_out.shape)\n",
        "    mp3_out_viewed = mp3_out.view(batch_size, self.fc_input)\n",
        "    fc1_out = self.fc1(mp3_out_viewed)\n",
        "    # print('fc1_out:', fc1_out.shape)\n",
        "    relu6_out = self.relu6(fc1_out)\n",
        "    fc2_out = self.fc2(relu6_out)\n",
        "    # print('fc2_out:', fc2_out.shape)\n",
        "    relu7_out = self.relu7(fc2_out)\n",
        "    # drop_out = self.drop(relu7_out)\n",
        "    # print('drop_out:', drop_out.shape)\n",
        "    soft_out = self.soft(relu7_out)\n",
        "    # print('soft_out:', soft_out.shape)\n",
        "\n",
        "    return soft_out"
      ],
      "execution_count": 0,
      "outputs": []
    },
    {
      "cell_type": "code",
      "metadata": {
        "id": "PjMXcCg--iCe",
        "colab_type": "code",
        "colab": {}
      },
      "source": [
        "class ResNetMissionary(nn.Module):\n",
        "  def __init__(self, num_classes):\n",
        "    super(ResNetMissionary, self).__init__()\n",
        "\n",
        "    self.model = torchvision.models.resnet152(pretrained=True)\n",
        "\n",
        "    fc = nn.Linear(in_features=2048, out_features=num_classes)\n",
        "    fc.requires_grad=True\n",
        "    self.model.fc = fc\n",
        "\n",
        "  def forward(self, x):\n",
        "    return self.model(x)"
      ],
      "execution_count": 0,
      "outputs": []
    },
    {
      "cell_type": "markdown",
      "metadata": {
        "id": "nl7tVR2ErV7M",
        "colab_type": "text"
      },
      "source": [
        "##Training"
      ]
    },
    {
      "cell_type": "code",
      "metadata": {
        "id": "bU_NcVwOrdVW",
        "colab_type": "code",
        "colab": {
          "base_uri": "https://localhost:8080/",
          "height": 262
        },
        "outputId": "a5833f72-b250-4d50-f1bf-1ce2b2ee4462"
      },
      "source": [
        "def train():\n",
        "  NUM_EPOCHS = 1\n",
        "  BATCH_SIZE = 50\n",
        "\n",
        "  dataset = MissionaryDataset()\n",
        "  train_dataset, val_dataset = torch.utils.data.random_split(dataset, [int(.8 * len(dataset)), int(.2 * len(dataset))])\n",
        "\n",
        "  # model = AuthorIdNetwork(dataset)\n",
        "  model = ResNetMissionary(dataset.num_classes())\n",
        "  model = model.cuda()\n",
        "\n",
        "  objective = nn.CrossEntropyLoss()\n",
        "  optimizer = optim.Adam(model.parameters(), lr=1e-3)\n",
        "\n",
        "  train_loader = DataLoader(train_dataset,\n",
        "                            batch_size=BATCH_SIZE,\n",
        "                            num_workers=4,\n",
        "                            pin_memory=True,\n",
        "                            shuffle=True)\n",
        "  \n",
        "  val_loader = DataLoader(val_dataset,\n",
        "                          batch_size=BATCH_SIZE,\n",
        "                          num_workers=4,\n",
        "                          pin_memory=True,\n",
        "                          shuffle=True)\n",
        "  \n",
        "  train_losses = []\n",
        "  val_losses = []\n",
        "  train_accs = []\n",
        "  val_accs = []\n",
        "\n",
        "  for epoch in range(NUM_EPOCHS):\n",
        "    loop = tqdm(total=len(train_loader), position=0, leave=False)\n",
        "\n",
        "    for batch, (x, y_truth) in enumerate(train_loader):\n",
        "      gc.collect()\n",
        "      x, y_truth = x.cuda(async=True), y_truth.cuda(async=True)\n",
        "\n",
        "      optimizer.zero_grad()\n",
        "      y_hat = model(x)\n",
        "\n",
        "      accuracy = torch.eq(y_hat.argmax(1), y_truth.long()).float().mean()\n",
        "      loss = objective(y_hat, y_truth.long())\n",
        "\n",
        "      loss.backward()\n",
        "\n",
        "      train_losses.append(loss.item())\n",
        "      train_accs.append(accuracy.item())\n",
        "\n",
        "      loop.set_description('epoch:{}, loss:{:.4f}, acc:{:.4f}, avgloss:{:.4f}, avgacc:{:.4f}'.format(epoch, loss.item(), accuracy.item(),np.mean(train_losses), np.mean(train_accs)))\n",
        "      loop.update(1)\n",
        "\n",
        "      optimizer.step()\n",
        "\n",
        "      # if batch % 10 == 0:\n",
        "      #   gc.collect()\n",
        "\n",
        "      #   val_single_acc = []\n",
        "      #   val_single_loss = []\n",
        "\n",
        "      #   for _, (val_x, val_y_truth) in enumerate(val_loader):\n",
        "      #     gc.collect()\n",
        "      #     val_x, val_y_truth = val_x.cuda(), val_y_truth.cuda().long()\n",
        "\n",
        "\n",
        "      #     val_y_hat = model(val_x)\n",
        "\n",
        "      #     val_accuracy = torch.eq(val_y_hat.argmax(1), val_y_truth)\n",
        "      #     val_loss = objective(val_y_hat, val_y_truth)\n",
        "\n",
        "      #     val_single_acc.append(val_accuracy)\n",
        "      #     val_single_loss.append(val_loss)\n",
        "\n",
        "      #   val_accs.append(val_single_acc)\n",
        "      #   val_losses.append(val_single_loss)\n",
        "    \n",
        "    loop.close()\n",
        "\n",
        "  return model, train_losses, val_losses, train_accs, val_accs\n",
        "\n",
        "try:\n",
        "  model, train_losses, val_losses, train_accs, val_accs = train()\n",
        "  gc.collect()\n",
        "except:\n",
        "  gc.collect()\n",
        "  __ITB__()"
      ],
      "execution_count": 46,
      "outputs": [
        {
          "output_type": "stream",
          "text": [
            "Downloading: \"https://download.pytorch.org/models/resnet152-b121ed2d.pth\" to /root/.cache/torch/checkpoints/resnet152-b121ed2d.pth\n",
            "\n",
            "  0%|          | 0.00/230M [00:00<?, ?B/s]\u001b[A\n",
            "  7%|▋         | 15.6M/230M [00:00<00:01, 163MB/s]\u001b[A\n",
            " 19%|█▉        | 43.7M/230M [00:00<00:01, 189MB/s]\u001b[A\n",
            " 29%|██▉       | 67.9M/230M [00:00<00:00, 204MB/s]\u001b[A\n",
            " 41%|████      | 95.0M/230M [00:00<00:00, 223MB/s]\u001b[A\n",
            " 49%|████▉     | 114M/230M [00:00<00:00, 197MB/s] \u001b[A\n",
            " 57%|█████▋    | 132M/230M [00:00<00:00, 187MB/s]\u001b[A\n",
            " 66%|██████▌   | 152M/230M [00:00<00:00, 193MB/s]\u001b[A\n",
            " 74%|███████▎  | 170M/230M [00:00<00:00, 188MB/s]\u001b[A\n",
            " 82%|████████▏ | 189M/230M [00:00<00:00, 191MB/s]\u001b[A\n",
            " 92%|█████████▏| 212M/230M [00:01<00:00, 204MB/s]\u001b[A\n"
          ],
          "name": "stderr"
        }
      ]
    },
    {
      "cell_type": "code",
      "metadata": {
        "id": "Jyx06jut4zQ5",
        "colab_type": "code",
        "colab": {
          "base_uri": "https://localhost:8080/",
          "height": 286
        },
        "outputId": "201673ca-99ee-4a88-b0aa-4267869f3da0"
      },
      "source": [
        "dataset = MissionaryDataset()\n",
        "img = dataset.__getitem__(9000)\n",
        "plt.imshow(img[0].permute(1,2,0))"
      ],
      "execution_count": 33,
      "outputs": [
        {
          "output_type": "execute_result",
          "data": {
            "text/plain": [
              "<matplotlib.image.AxesImage at 0x7f07fa4aec88>"
            ]
          },
          "metadata": {
            "tags": []
          },
          "execution_count": 33
        },
        {
          "output_type": "display_data",
          "data": {
            "image/png": "[encoded data removed]",
            "text/plain": [
              "<Figure size 432x288 with 1 Axes>"
            ]
          },
          "metadata": {
            "tags": []
          }
        }
      ]
    },
    {
      "cell_type": "markdown",
      "metadata": {
        "id": "vWYdYGziroaq",
        "colab_type": "text"
      },
      "source": [
        "##Results"
      ]
    },
    {
      "cell_type": "code",
      "metadata": {
        "id": "hdkwEMkFrv_A",
        "colab_type": "code",
        "colab": {
          "base_uri": "https://localhost:8080/",
          "height": 295
        },
        "outputId": "6a9e3bcf-39af-4590-d5d5-d015e3fe9dff"
      },
      "source": [
        "# Plot the Loss\n",
        "# a, b = zip(*val_losses)\n",
        "plt.title('Loss')\n",
        "plt.xlabel('Batches')\n",
        "plt.ylabel('Loss')\n",
        "plt.plot(train_losses, label='train')\n",
        "# plt.plot(a, b, label='val')\n",
        "plt.legend()\n",
        "plt.show()"
      ],
      "execution_count": 47,
      "outputs": [
        {
          "output_type": "display_data",
          "data": {
            "image/png": "[encoded data removed]",
            "text/plain": [
              "<Figure size 432x288 with 1 Axes>"
            ]
          },
          "metadata": {
            "tags": []
          }
        }
      ]
    },
    {
      "cell_type": "code",
      "metadata": {
        "id": "dshGPo7xXKLU",
        "colab_type": "code",
        "colab": {
          "base_uri": "https://localhost:8080/",
          "height": 295
        },
        "outputId": "b1ce6968-f378-42c6-ac3c-b22536af4f27"
      },
      "source": [
        "# Plot the Accuracy\n",
        "plt.title('Accuracy')\n",
        "plt.xlabel('Batches')\n",
        "plt.ylabel('Accuracy')\n",
        "# a, b = zip(*val_accs)\n",
        "plt.plot(train_accs, label='train')\n",
        "# plt.plot(a, b, label='val')\n",
        "plt.legend()\n",
        "plt.show()"
      ],
      "execution_count": 48,
      "outputs": [
        {
          "output_type": "display_data",
          "data": {
            "image/png": "[encoded data removed]",
            "text/plain": [
              "<Figure size 432x288 with 1 Axes>"
            ]
          },
          "metadata": {
            "tags": []
          }
        }
      ]
    },
    {
      "cell_type": "markdown",
      "metadata": {
        "id": "r5ltr9lNr2ag",
        "colab_type": "text"
      },
      "source": [
        "##Conclusion"
      ]
    },
    {
      "cell_type": "markdown",
      "metadata": {
        "id": "ZGLEzUYIr77s",
        "colab_type": "text"
      },
      "source": [
        "The above CNN architecture achieves...\n",
        "\n",
        "These are the contributions and performance of the model..."
      ]
    }
  ]
}